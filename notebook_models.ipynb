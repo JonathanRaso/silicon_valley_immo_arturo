{
 "cells": [
  {
   "cell_type": "markdown",
   "id": "e418392d",
   "metadata": {},
   "source": [
    "# I : notebook_model introduction"
   ]
  },
  {
   "cell_type": "markdown",
   "id": "fe4e53d6",
   "metadata": {},
   "source": [
    "### I / A : Goal of this notebook."
   ]
  },
  {
   "cell_type": "markdown",
   "id": "4d0300c0",
   "metadata": {},
   "source": [
    "In this notebook, we will try different models with pipelines. We will use pipeline in order to avoid exporting multiple dataframes for each of our iteration. We will try different transformation on our dataframe (encoding, scaling, ...), so that we can find the best model for our goal: median_house_value prediction."
   ]
  },
  {
   "cell_type": "markdown",
   "id": "871c175e",
   "metadata": {},
   "source": [
    "### II / A : Preliminary steps"
   ]
  },
  {
   "cell_type": "markdown",
   "id": "91143d74",
   "metadata": {},
   "source": [
    "### II / B : Importing libraries"
   ]
  },
  {
   "cell_type": "code",
   "execution_count": 16,
   "id": "b439b214",
   "metadata": {},
   "outputs": [],
   "source": [
    "import pandas as pd\n",
    "import numpy as np\n",
    "import seaborn as sns\n",
    "\n",
    "# Scikit learn libraries\n",
    "from sklearn.model_selection import train_test_split, cross_val_score\n",
    "from sklearn.pipeline import Pipeline\n",
    "from sklearn.impute import SimpleImputer\n",
    "from sklearn.preprocessing import StandardScaler, OneHotEncoder, MinMaxScaler, RobustScaler\n",
    "from sklearn.linear_model import LinearRegression, PoissonRegressor\n",
    "from sklearn.compose import ColumnTransformer\n",
    "from sklearn.metrics import mean_absolute_error, mean_absolute_percentage_error, mean_squared_error\n",
    "from sklearn.cluster import KMeans\n",
    "from sklearn.neighbors import KNeighborsRegressor\n",
    "from sklearn.decomposition import PCA\n",
    "\n",
    "# Pickle\n",
    "import pickle"
   ]
  },
  {
   "cell_type": "markdown",
   "id": "46541646",
   "metadata": {},
   "source": [
    "### II / C : Importing dataset after EDA"
   ]
  },
  {
   "cell_type": "code",
   "execution_count": 5,
   "id": "146b36ea",
   "metadata": {},
   "outputs": [
    {
     "data": {
      "text/html": [
       "<div>\n",
       "<style scoped>\n",
       "    .dataframe tbody tr th:only-of-type {\n",
       "        vertical-align: middle;\n",
       "    }\n",
       "\n",
       "    .dataframe tbody tr th {\n",
       "        vertical-align: top;\n",
       "    }\n",
       "\n",
       "    .dataframe thead th {\n",
       "        text-align: right;\n",
       "    }\n",
       "</style>\n",
       "<table border=\"1\" class=\"dataframe\">\n",
       "  <thead>\n",
       "    <tr style=\"text-align: right;\">\n",
       "      <th></th>\n",
       "      <th>longitude</th>\n",
       "      <th>latitude</th>\n",
       "      <th>housing_median_age</th>\n",
       "      <th>total_rooms</th>\n",
       "      <th>total_bedrooms</th>\n",
       "      <th>population</th>\n",
       "      <th>households</th>\n",
       "      <th>median_income</th>\n",
       "      <th>median_house_value</th>\n",
       "      <th>ocean_proximity</th>\n",
       "    </tr>\n",
       "  </thead>\n",
       "  <tbody>\n",
       "    <tr>\n",
       "      <th>0</th>\n",
       "      <td>-119.84</td>\n",
       "      <td>36.77</td>\n",
       "      <td>6.0</td>\n",
       "      <td>1853.0</td>\n",
       "      <td>473.0</td>\n",
       "      <td>1397.0</td>\n",
       "      <td>417.0</td>\n",
       "      <td>1.4817</td>\n",
       "      <td>72000.0</td>\n",
       "      <td>INLAND</td>\n",
       "    </tr>\n",
       "    <tr>\n",
       "      <th>1</th>\n",
       "      <td>-117.80</td>\n",
       "      <td>33.68</td>\n",
       "      <td>8.0</td>\n",
       "      <td>2032.0</td>\n",
       "      <td>349.0</td>\n",
       "      <td>862.0</td>\n",
       "      <td>340.0</td>\n",
       "      <td>6.9133</td>\n",
       "      <td>274100.0</td>\n",
       "      <td>&lt;1H OCEAN</td>\n",
       "    </tr>\n",
       "    <tr>\n",
       "      <th>2</th>\n",
       "      <td>-120.19</td>\n",
       "      <td>36.60</td>\n",
       "      <td>25.0</td>\n",
       "      <td>875.0</td>\n",
       "      <td>214.0</td>\n",
       "      <td>931.0</td>\n",
       "      <td>214.0</td>\n",
       "      <td>1.5536</td>\n",
       "      <td>58300.0</td>\n",
       "      <td>INLAND</td>\n",
       "    </tr>\n",
       "    <tr>\n",
       "      <th>3</th>\n",
       "      <td>-118.32</td>\n",
       "      <td>34.10</td>\n",
       "      <td>31.0</td>\n",
       "      <td>622.0</td>\n",
       "      <td>229.0</td>\n",
       "      <td>597.0</td>\n",
       "      <td>227.0</td>\n",
       "      <td>1.5284</td>\n",
       "      <td>200000.0</td>\n",
       "      <td>&lt;1H OCEAN</td>\n",
       "    </tr>\n",
       "    <tr>\n",
       "      <th>4</th>\n",
       "      <td>-121.23</td>\n",
       "      <td>37.79</td>\n",
       "      <td>21.0</td>\n",
       "      <td>1922.0</td>\n",
       "      <td>373.0</td>\n",
       "      <td>1130.0</td>\n",
       "      <td>372.0</td>\n",
       "      <td>4.0815</td>\n",
       "      <td>117900.0</td>\n",
       "      <td>INLAND</td>\n",
       "    </tr>\n",
       "    <tr>\n",
       "      <th>...</th>\n",
       "      <td>...</td>\n",
       "      <td>...</td>\n",
       "      <td>...</td>\n",
       "      <td>...</td>\n",
       "      <td>...</td>\n",
       "      <td>...</td>\n",
       "      <td>...</td>\n",
       "      <td>...</td>\n",
       "      <td>...</td>\n",
       "      <td>...</td>\n",
       "    </tr>\n",
       "    <tr>\n",
       "      <th>16331</th>\n",
       "      <td>-121.90</td>\n",
       "      <td>39.59</td>\n",
       "      <td>20.0</td>\n",
       "      <td>1465.0</td>\n",
       "      <td>278.0</td>\n",
       "      <td>745.0</td>\n",
       "      <td>250.0</td>\n",
       "      <td>3.0625</td>\n",
       "      <td>93800.0</td>\n",
       "      <td>INLAND</td>\n",
       "    </tr>\n",
       "    <tr>\n",
       "      <th>16332</th>\n",
       "      <td>-122.25</td>\n",
       "      <td>38.11</td>\n",
       "      <td>49.0</td>\n",
       "      <td>2365.0</td>\n",
       "      <td>504.0</td>\n",
       "      <td>1131.0</td>\n",
       "      <td>458.0</td>\n",
       "      <td>2.6133</td>\n",
       "      <td>103100.0</td>\n",
       "      <td>NEAR BAY</td>\n",
       "    </tr>\n",
       "    <tr>\n",
       "      <th>16333</th>\n",
       "      <td>-121.22</td>\n",
       "      <td>38.92</td>\n",
       "      <td>19.0</td>\n",
       "      <td>2531.0</td>\n",
       "      <td>461.0</td>\n",
       "      <td>1206.0</td>\n",
       "      <td>429.0</td>\n",
       "      <td>4.4958</td>\n",
       "      <td>192600.0</td>\n",
       "      <td>INLAND</td>\n",
       "    </tr>\n",
       "    <tr>\n",
       "      <th>16334</th>\n",
       "      <td>-118.14</td>\n",
       "      <td>34.16</td>\n",
       "      <td>39.0</td>\n",
       "      <td>2776.0</td>\n",
       "      <td>840.0</td>\n",
       "      <td>2546.0</td>\n",
       "      <td>773.0</td>\n",
       "      <td>2.5750</td>\n",
       "      <td>153500.0</td>\n",
       "      <td>&lt;1H OCEAN</td>\n",
       "    </tr>\n",
       "    <tr>\n",
       "      <th>16335</th>\n",
       "      <td>-124.13</td>\n",
       "      <td>40.80</td>\n",
       "      <td>31.0</td>\n",
       "      <td>2152.0</td>\n",
       "      <td>462.0</td>\n",
       "      <td>1259.0</td>\n",
       "      <td>420.0</td>\n",
       "      <td>2.2478</td>\n",
       "      <td>81100.0</td>\n",
       "      <td>NEAR OCEAN</td>\n",
       "    </tr>\n",
       "  </tbody>\n",
       "</table>\n",
       "<p>16336 rows × 10 columns</p>\n",
       "</div>"
      ],
      "text/plain": [
       "       longitude  latitude  housing_median_age  total_rooms  total_bedrooms  \\\n",
       "0        -119.84     36.77                 6.0       1853.0           473.0   \n",
       "1        -117.80     33.68                 8.0       2032.0           349.0   \n",
       "2        -120.19     36.60                25.0        875.0           214.0   \n",
       "3        -118.32     34.10                31.0        622.0           229.0   \n",
       "4        -121.23     37.79                21.0       1922.0           373.0   \n",
       "...          ...       ...                 ...          ...             ...   \n",
       "16331    -121.90     39.59                20.0       1465.0           278.0   \n",
       "16332    -122.25     38.11                49.0       2365.0           504.0   \n",
       "16333    -121.22     38.92                19.0       2531.0           461.0   \n",
       "16334    -118.14     34.16                39.0       2776.0           840.0   \n",
       "16335    -124.13     40.80                31.0       2152.0           462.0   \n",
       "\n",
       "       population  households  median_income  median_house_value  \\\n",
       "0          1397.0       417.0         1.4817             72000.0   \n",
       "1           862.0       340.0         6.9133            274100.0   \n",
       "2           931.0       214.0         1.5536             58300.0   \n",
       "3           597.0       227.0         1.5284            200000.0   \n",
       "4          1130.0       372.0         4.0815            117900.0   \n",
       "...           ...         ...            ...                 ...   \n",
       "16331       745.0       250.0         3.0625             93800.0   \n",
       "16332      1131.0       458.0         2.6133            103100.0   \n",
       "16333      1206.0       429.0         4.4958            192600.0   \n",
       "16334      2546.0       773.0         2.5750            153500.0   \n",
       "16335      1259.0       420.0         2.2478             81100.0   \n",
       "\n",
       "      ocean_proximity  \n",
       "0              INLAND  \n",
       "1           <1H OCEAN  \n",
       "2              INLAND  \n",
       "3           <1H OCEAN  \n",
       "4              INLAND  \n",
       "...               ...  \n",
       "16331          INLAND  \n",
       "16332        NEAR BAY  \n",
       "16333          INLAND  \n",
       "16334       <1H OCEAN  \n",
       "16335      NEAR OCEAN  \n",
       "\n",
       "[16336 rows x 10 columns]"
      ]
     },
     "execution_count": 5,
     "metadata": {},
     "output_type": "execute_result"
    }
   ],
   "source": [
    "# Reading dataframe\n",
    "model_df = pd.read_csv('data/eda_clean_df.csv')\n",
    "model_df"
   ]
  },
  {
   "cell_type": "markdown",
   "id": "225ec272",
   "metadata": {},
   "source": [
    "### II / D :  Create clusters using Kmean()"
   ]
  },
  {
   "cell_type": "code",
   "execution_count": 6,
   "id": "d32d0c2a",
   "metadata": {},
   "outputs": [],
   "source": [
    "# First, we need to drop ocean_proximity feature\n",
    "model_df_drop = model_df.drop(\"ocean_proximity\", axis=1)\n",
    "\n",
    "# Clustering with KMeans\n",
    "kmeans = KMeans(n_clusters=3, random_state=42).fit(model_df_drop)\n",
    "labels = kmeans.labels_\n",
    "\n",
    "# Creating new dataframe\n",
    "kmean_df = pd.DataFrame(data = model_df_drop)\n",
    "\n",
    "# Adding label_kmeans and ocean_proximity columns\n",
    "kmean_df['label_kmeans'] = labels\n",
    "kmean_df[\"ocean_proximity\"] = model_df[\"ocean_proximity\"]\n",
    "\n",
    "# kmean_df"
   ]
  },
  {
   "cell_type": "markdown",
   "id": "64e1fdf0",
   "metadata": {},
   "source": [
    "### II / E : Split into train/test"
   ]
  },
  {
   "cell_type": "code",
   "execution_count": 7,
   "id": "d28f6deb",
   "metadata": {},
   "outputs": [],
   "source": [
    "# Here we will split our dataframe because we need to use the hold out method (70/30 %)\n",
    "X = kmean_df.drop(\"median_house_value\", axis=1).copy()\n",
    "y = kmean_df[\"median_house_value\"].copy()\n",
    "\n",
    "X_train, X_test, y_train, y_test = train_test_split(X, y, train_size=0.7, random_state=1)"
   ]
  },
  {
   "cell_type": "markdown",
   "id": "77575ddd",
   "metadata": {},
   "source": [
    "### III / A : Modelisation"
   ]
  },
  {
   "cell_type": "code",
   "execution_count": 8,
   "id": "960cdee1",
   "metadata": {},
   "outputs": [],
   "source": [
    "# We have to select specific columns for our pipeline's steps (select num et cat columns)\n",
    "cat_columns = X_train.select_dtypes(include=[\"object\"]).columns.tolist()\n",
    "num_columns = X_train.select_dtypes(exclude=[\"object\"]).columns.tolist()"
   ]
  },
  {
   "cell_type": "markdown",
   "id": "3850809b",
   "metadata": {},
   "source": [
    "### III / B : First iteration with OneHoteEncoder and StandardScaler()"
   ]
  },
  {
   "cell_type": "code",
   "execution_count": 9,
   "id": "e53e5c2c",
   "metadata": {},
   "outputs": [
    {
     "name": "stdout",
     "output_type": "stream",
     "text": [
      "cross_val_score : 0.6789760761009063\n",
      "y_pred min : -142174.77201245917\n",
      "r² score : 0.6931144305582347\n",
      "mae score : 48537.02593175569\n",
      "mae % score : 0.30527711247453365\n",
      "mse score : 4115898190.785157\n",
      "rmse score : 64155.26627475843\n"
     ]
    }
   ],
   "source": [
    "# Creating categorical data pipeline\n",
    "cat_preprocessing = Pipeline(\n",
    "    [\n",
    "        (\"encoder\", OneHotEncoder(handle_unknown=\"ignore\", sparse=False))\n",
    "    ]\n",
    ")\n",
    "\n",
    "# Creating numerical data pipeline\n",
    "num_preprocessing = Pipeline(\n",
    "    [\n",
    "        (\"scaler\", StandardScaler())\n",
    "    ]\n",
    ")\n",
    "\n",
    "# Combine both numerical and categorical pipelines\n",
    "preprocessing = ColumnTransformer(\n",
    "    [\n",
    "        (\"num\", num_preprocessing, num_columns),\n",
    "        (\"cat\", cat_preprocessing, cat_columns)\n",
    "    ]\n",
    ")\n",
    "\n",
    "# Full pipe with preprocessing pipes and regression pipe\n",
    "full_pipe = Pipeline(\n",
    "    [\n",
    "        ('preprocess', preprocessing),\n",
    "        ('regressor', LinearRegression())\n",
    "    ]\n",
    ")\n",
    "\n",
    "# measure model performance with cross validation\n",
    "scores = cross_val_score(\n",
    "    full_pipe, X_train, y_train, cv=5\n",
    ")\n",
    "\n",
    "# Fitting our model\n",
    "full_pipe.fit(X_train, y_train)\n",
    "\n",
    "# Storing the predictions\n",
    "y_pred = full_pipe.predict(X_test)\n",
    "\n",
    "# Printing different metrics for model evaluation\n",
    "print(f'cross_val_score : {scores.mean()}')\n",
    "print(f'y_pred min : {y_pred.min()}')\n",
    "print(f'r² score : {full_pipe.score(X_test, y_test)}')\n",
    "print(f'mae score : {mean_absolute_error(y_test, y_pred)}')\n",
    "print(f'mae % score : {mean_absolute_percentage_error(y_test, y_pred)}')\n",
    "print(f'mse score : {mean_squared_error(y_test, y_pred)}')\n",
    "print(f'rmse score : {np.sqrt(mean_squared_error(y_test, y_pred))}')"
   ]
  },
  {
   "cell_type": "markdown",
   "id": "112509be",
   "metadata": {},
   "source": [
    "#### First iteration conclusion:\n",
    "After using onehotencoding for categorical value and standardscaling on numerical columns, our first score is 0.69 with a Linear regression model. We have an issue, because our model can predict negative values, whereas the price of a house can go below 0. Because of our outliers, we can't use mse and rmse for evaluating the model. Mae is less sensitive to outliers, so we will focus on r² and mae metrics. Our mae is really high, our predictions can have an error of 48K $ more or less than the real value. It's way too high."
   ]
  },
  {
   "cell_type": "markdown",
   "id": "1c916b1d",
   "metadata": {},
   "source": [
    "### Second iteration, with MinMaxScaler instead of StandardScaler"
   ]
  },
  {
   "cell_type": "code",
   "execution_count": 10,
   "id": "b46f48f6",
   "metadata": {},
   "outputs": [
    {
     "name": "stdout",
     "output_type": "stream",
     "text": [
      "y_pred min : -142592.0\n",
      "r² score : 0.693113879810968\n",
      "mae score : 48536.530299938786\n",
      "mae % score : 0.30510633938560483\n",
      "mse score : 4115905577.315854\n",
      "rmse score : 64155.32384234261\n"
     ]
    }
   ],
   "source": [
    "# Creating categorical data pipeline\n",
    "cat_preprocessing_2 = Pipeline(\n",
    "    [\n",
    "        (\"encoder\", OneHotEncoder(handle_unknown=\"ignore\", sparse=False))\n",
    "    ]\n",
    ")\n",
    "\n",
    "# Creating numerical data pipeline\n",
    "num_preprocessing_2 = Pipeline(\n",
    "    [\n",
    "        (\"scaler\", MinMaxScaler())\n",
    "    ]\n",
    ")\n",
    "\n",
    "# Combine both pipeline\n",
    "\n",
    "preprocessing_2 = ColumnTransformer(\n",
    "    [\n",
    "        (\"num\", num_preprocessing_2, num_columns),\n",
    "        (\"cat\", cat_preprocessing_2, cat_columns)\n",
    "    ]\n",
    ")\n",
    "\n",
    "# Full pipe with preprocessing pipes and regression pipe\n",
    "full_pipe_2 = Pipeline(\n",
    "    [\n",
    "        ('preprocessing', preprocessing_2),\n",
    "        ('regressor', LinearRegression())\n",
    "    ]\n",
    ")\n",
    "\n",
    "# Fitting our model\n",
    "full_pipe_2.fit(X_train, y_train)\n",
    "\n",
    "# Storing our predictions\n",
    "y_pred_2 = full_pipe_2.predict(X_test)\n",
    "\n",
    "# Printing different metrics for model evaluation\n",
    "print(f'y_pred min : {y_pred_2.min()}')\n",
    "print(f'r² score : {full_pipe_2.score(X_test, y_test)}')\n",
    "print(f'mae score : {mean_absolute_error(y_test, y_pred_2)}')\n",
    "print(f'mae % score : {mean_absolute_percentage_error(y_test, y_pred_2)}')\n",
    "print(f'mse score : {mean_squared_error(y_test, y_pred_2)}')\n",
    "print(f'rmse score : {np.sqrt(mean_squared_error(y_test, y_pred_2))}')"
   ]
  },
  {
   "cell_type": "markdown",
   "id": "48b2f9a9",
   "metadata": {},
   "source": [
    "#### Second iteration conclusion:\n",
    "After using minmaxscaling instead of standardscaling on numerical columns, our evaluation metrics are the same. We need to find other ways to improve our model. We still have negative values."
   ]
  },
  {
   "cell_type": "markdown",
   "id": "35d19f83",
   "metadata": {},
   "source": [
    "### Third iteration, with PoissonRegressor instead of LinearRegression."
   ]
  },
  {
   "cell_type": "code",
   "execution_count": 11,
   "id": "87187b13",
   "metadata": {},
   "outputs": [
    {
     "name": "stdout",
     "output_type": "stream",
     "text": [
      "y_pred min : 17965.669537479593\n",
      "r² score : 0.6688298227022536\n",
      "mae score : 49369.20908776794\n",
      "mae % score : 0.3084131251445375\n",
      "mse score : 4777741353.814425\n",
      "rmse score : 69121.20769933368\n"
     ]
    }
   ],
   "source": [
    "# Creating categorical data pipeline\n",
    "cat_preprocessing_3 = Pipeline(\n",
    "    [\n",
    "        (\"encoder\", OneHotEncoder(handle_unknown=\"ignore\", sparse=False))\n",
    "    ]\n",
    ")\n",
    "\n",
    "# Creating numerical data pipeline\n",
    "num_preprocessing_3 = Pipeline(\n",
    "    [\n",
    "        (\"scaler\", MinMaxScaler())\n",
    "    ]\n",
    ")\n",
    "\n",
    "# Combine both pipelines\n",
    "preprocessing_3 = ColumnTransformer(\n",
    "    [\n",
    "        (\"num\", num_preprocessing_3, num_columns),\n",
    "        (\"cat\", cat_preprocessing_3, cat_columns)\n",
    "    ]\n",
    ")\n",
    "\n",
    "# Full pipe with preprocessing pipes and regression pipe\n",
    "full_pipe_3 = Pipeline(\n",
    "    [\n",
    "        ('preprocessing', preprocessing_3),\n",
    "        ('regressor', PoissonRegressor(max_iter=1000))\n",
    "    ]\n",
    ")\n",
    "\n",
    "# Fitting our model\n",
    "full_pipe_3.fit(X_train, y_train)\n",
    "\n",
    "# Storing our predictions\n",
    "y_pred_3 = full_pipe_3.predict(X_test)\n",
    "\n",
    "# Printing different metrics for model evaluation\n",
    "print(f'y_pred min : {y_pred_3.min()}')\n",
    "print(f'r² score : {full_pipe_3.score(X_test, y_test)}')\n",
    "print(f'mae score : {mean_absolute_error(y_test, y_pred_3)}')\n",
    "print(f'mae % score : {mean_absolute_percentage_error(y_test, y_pred_3)}')\n",
    "print(f'mse score : {mean_squared_error(y_test, y_pred_3)}')\n",
    "print(f'rmse score : {np.sqrt(mean_squared_error(y_test, y_pred_3))}')"
   ]
  },
  {
   "cell_type": "markdown",
   "id": "24763be8",
   "metadata": {},
   "source": [
    "#### Third iteration conclusion:\n",
    "After using PoissonRegressor instead of LinearRegression, our r² score has decreased (0.66). The mae score is increased, so it's worse than the previous iteration. We don't have negative prediction, so it's great improvement with this specific model. "
   ]
  },
  {
   "cell_type": "markdown",
   "id": "7abf8b37",
   "metadata": {},
   "source": [
    "### Fourth iteration, with KNeighborsRegressor ."
   ]
  },
  {
   "cell_type": "code",
   "execution_count": 12,
   "id": "d4695304",
   "metadata": {},
   "outputs": [
    {
     "name": "stdout",
     "output_type": "stream",
     "text": [
      "y_pred min : 47640.0\n",
      "r² score : 0.9031538750176659\n",
      "mae score : 26746.389716384412\n",
      "mae % score : 0.15314172322335073\n",
      "mse score : 1298884112.8125527\n",
      "rmse score : 36040.03486142255\n"
     ]
    }
   ],
   "source": [
    "# Creating categorical data pipeline\n",
    "cat_preprocessing_4 = Pipeline(\n",
    "    [\n",
    "        (\"encoder\", OneHotEncoder(handle_unknown=\"ignore\", sparse=False))\n",
    "    ]\n",
    ")\n",
    "\n",
    "# Creating numerical data pipeline\n",
    "num_preprocessing_4 = Pipeline(\n",
    "    [\n",
    "        (\"scaler\", MinMaxScaler())\n",
    "    ]\n",
    ")\n",
    "\n",
    "# Combine both pipelines\n",
    "preprocessing_4 = ColumnTransformer(\n",
    "    [\n",
    "        (\"num\", num_preprocessing_4, num_columns),\n",
    "        (\"cat\", cat_preprocessing_4, cat_columns)\n",
    "    ]\n",
    ")\n",
    "\n",
    "# Full pipe with preprocessing pipes and regression pipe\n",
    "full_pipe_4 = Pipeline(\n",
    "    [\n",
    "        ('preprocessing', preprocessing_4),\n",
    "        ('regressor', KNeighborsRegressor())\n",
    "    ]\n",
    ")\n",
    "\n",
    "# Fitting our model\n",
    "full_pipe_4.fit(X_train, y_train)\n",
    "\n",
    "# Storing our predictions\n",
    "y_pred_4 = full_pipe_4.predict(X_test)\n",
    "\n",
    "# Printing different metrics for model evaluation\n",
    "print(f'y_pred min : {y_pred_4.min()}')\n",
    "print(f'r² score : {full_pipe_4.score(X_test, y_test)}')\n",
    "print(f'mae score : {mean_absolute_error(y_test, y_pred_4)}')\n",
    "print(f'mae % score : {mean_absolute_percentage_error(y_test, y_pred_4)}')\n",
    "print(f'mse score : {mean_squared_error(y_test, y_pred_4)}')\n",
    "print(f'rmse score : {np.sqrt(mean_squared_error(y_test, y_pred_4))}')"
   ]
  },
  {
   "cell_type": "markdown",
   "id": "956774b1",
   "metadata": {},
   "source": [
    "#### Fourth iteration conclusion:\n",
    "After using KNeighborsRegressor, our r² score has greatly improved (0.90). We also have a lower mae score, which is great because we have a lower variance between our predictions and the real values. It's our best model so far."
   ]
  },
  {
   "cell_type": "markdown",
   "id": "ae412e59",
   "metadata": {},
   "source": [
    "### Fifth iteration, adding PCA in our pipeline."
   ]
  },
  {
   "cell_type": "code",
   "execution_count": 13,
   "id": "19967946",
   "metadata": {},
   "outputs": [
    {
     "name": "stdout",
     "output_type": "stream",
     "text": [
      "y_pred min : 47800.0\n",
      "r² score : 0.8892739433289027\n",
      "mae score : 29450.92768822689\n",
      "mae % score : 0.17405186546686796\n",
      "mse score : 1485039446.9650195\n",
      "rmse score : 38536.209556273425\n"
     ]
    }
   ],
   "source": [
    "# Creating categorical data pipeline\n",
    "cat_preprocessing_5 = Pipeline(\n",
    "    [\n",
    "        (\"encoder\", OneHotEncoder(handle_unknown=\"ignore\", sparse=False))\n",
    "    ]\n",
    ")\n",
    "\n",
    "# Creating numerical data pipeline\n",
    "num_preprocessing_5 = Pipeline(\n",
    "    [\n",
    "        (\"scaler\", MinMaxScaler()),\n",
    "        ('pca', PCA(n_components=3))\n",
    "    ]\n",
    ")\n",
    "\n",
    "# Combine both pipeline\n",
    "preprocessing_5 = ColumnTransformer(\n",
    "    [\n",
    "        (\"num\", num_preprocessing_5, num_columns),\n",
    "        (\"cat\", cat_preprocessing_5, cat_columns)\n",
    "    ]\n",
    ")\n",
    "\n",
    "# Full pipe with preprocessing pipes and regression pipe\n",
    "full_pipe_5 = Pipeline(\n",
    "    [\n",
    "        ('preprocessing', preprocessing_5),\n",
    "        ('regressor', KNeighborsRegressor())\n",
    "    ]\n",
    ")\n",
    "\n",
    "# Fitting our model\n",
    "full_pipe_5.fit(X_train, y_train)\n",
    "\n",
    "# Storing our predictions\n",
    "y_pred_5 = full_pipe_5.predict(X_test)\n",
    "\n",
    "# Printing different metrics for model evaluation\n",
    "print(f'y_pred min : {y_pred_5.min()}')\n",
    "print(f'r² score : {full_pipe_5.score(X_test, y_test)}')\n",
    "print(f'mae score : {mean_absolute_error(y_test, y_pred_5)}')\n",
    "print(f'mae % score : {mean_absolute_percentage_error(y_test, y_pred_5)}')\n",
    "print(f'mse score : {mean_squared_error(y_test, y_pred_5)}')\n",
    "print(f'rmse score : {np.sqrt(mean_squared_error(y_test, y_pred_5))}')"
   ]
  },
  {
   "cell_type": "markdown",
   "id": "88a84986",
   "metadata": {},
   "source": [
    "#### Fifth iteration conclusion:\n",
    "After adding PCA, our r² score has deteriorated (0.88). The mae score is also worst, so we will keep the fourth iteration."
   ]
  },
  {
   "cell_type": "markdown",
   "id": "34612935",
   "metadata": {},
   "source": [
    "### Exporting with pickle"
   ]
  },
  {
   "cell_type": "code",
   "execution_count": null,
   "id": "383de817",
   "metadata": {},
   "outputs": [],
   "source": [
    "# Exporting preprocessing steps with pickle\n",
    "with open ('cleaning_pickle', 'wb') as file:\n",
    "    pickle.dump(full_pipe_4, file)"
   ]
  },
  {
   "cell_type": "code",
   "execution_count": 15,
   "id": "e262d8ba",
   "metadata": {},
   "outputs": [],
   "source": [
    "# Exporting our model with pickle\n",
    "with open ('model_pickle', 'wb') as file:\n",
    "    pickle.dump(full_pipe_4, file)"
   ]
  }
 ],
 "metadata": {
  "kernelspec": {
   "display_name": "Python 3",
   "language": "python",
   "name": "python3"
  },
  "language_info": {
   "codemirror_mode": {
    "name": "ipython",
    "version": 3
   },
   "file_extension": ".py",
   "mimetype": "text/x-python",
   "name": "python",
   "nbconvert_exporter": "python",
   "pygments_lexer": "ipython3",
   "version": "3.8.8"
  }
 },
 "nbformat": 4,
 "nbformat_minor": 5
}
