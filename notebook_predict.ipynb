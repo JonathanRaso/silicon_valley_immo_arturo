{
 "cells": [
  {
   "cell_type": "markdown",
   "id": "2d6f93e7",
   "metadata": {},
   "source": [
    " # I : notebook_predict introduction"
   ]
  },
  {
   "cell_type": "markdown",
   "id": "c9a4fa1d",
   "metadata": {},
   "source": [
    "#### I / A : Documentation\n",
    "\n",
    "Hello mister Guizar. In this document you will find the model that you ordered from my company. You will have to follow each of the steps in the document in order to get the predictions that you want (median_house_value). You will have to execute each cell in order have a model that will work. I hope this will be clear enough and that th results will meet your expectations.  "
   ]
  },
  {
   "cell_type": "markdown",
   "id": "6f744475",
   "metadata": {},
   "source": [
    "### II : Explanation step by steps"
   ]
  },
  {
   "cell_type": "markdown",
   "id": "d7b234e0",
   "metadata": {},
   "source": [
    "#### II / A : Import the libraries that are recquired for our model."
   ]
  },
  {
   "cell_type": "code",
   "execution_count": 1,
   "id": "b5bb6fd6",
   "metadata": {},
   "outputs": [],
   "source": [
    "###### FIRST CELL TO EXECUTE : Importing libraries ######\n",
    "\n",
    "# Basic imports\n",
    "import pickle\n",
    "import pandas as pd\n",
    "import numpy as np\n",
    "\n",
    "# Scikit learn libraries\n",
    "from sklearn.model_selection import train_test_split\n",
    "from sklearn.pipeline import Pipeline\n",
    "from sklearn.preprocessing import OneHotEncoder, MinMaxScaler\n",
    "from sklearn.compose import ColumnTransformer\n",
    "from sklearn.metrics import mean_absolute_error, mean_absolute_percentage_error, mean_squared_error\n",
    "from sklearn.cluster import KMeans\n",
    "from sklearn.neighbors import KNeighborsRegressor\n",
    "\n",
    "# Importing our trained model\n",
    "with open('final_model_pickle', 'rb') as file:\n",
    "    model = pickle.load(file)"
   ]
  },
  {
   "cell_type": "code",
   "execution_count": 3,
   "id": "d3f6d596",
   "metadata": {},
   "outputs": [],
   "source": [
    "###### SECOND CELL TO EXECUTE : Importing data that you wan to test ######\n",
    "\n",
    "# Here, you need to replace the string 'PATHNAME_OF_YOUR_DATA_FILE' by the pathname of your file\n",
    "# For example : model_df = pd.read_csv('data/eda_clean_df.csv')\n",
    "model_df = pd.read_csv('PATHNAME_OF_YOUR_DATA_FILE')"
   ]
  },
  {
   "cell_type": "code",
   "execution_count": 4,
   "id": "eea41ca7",
   "metadata": {},
   "outputs": [],
   "source": [
    "###### THIRD CELL TO EXECUTE : Creating clusters and transforming some columns of your dataframe ######\n",
    "\n",
    "# First, we need to drop ocean_proximity feature\n",
    "model_df_drop = model_df.drop(\"ocean_proximity\", axis=1)\n",
    "\n",
    "# Clustering with KMeans\n",
    "kmeans = KMeans(n_clusters=3, random_state=42).fit(model_df_drop)\n",
    "labels = kmeans.labels_\n",
    "\n",
    "# Creating new dataframe\n",
    "kmean_df = pd.DataFrame(data = model_df_drop)\n",
    "\n",
    "# Adding label_kmeans and ocean_proximity columns\n",
    "kmean_df['label_kmeans'] = labels\n",
    "kmean_df[\"ocean_proximity\"] = model_df[\"ocean_proximity\"]"
   ]
  },
  {
   "cell_type": "code",
   "execution_count": 5,
   "id": "8dc29ca7",
   "metadata": {},
   "outputs": [],
   "source": [
    "###### FOURTH CELL TO EXECUTE : Splitting your dataframe ######\n",
    "\n",
    "X = kmean_df.drop(\"median_house_value\", axis=1).copy()\n",
    "y = kmean_df[\"median_house_value\"].copy()\n",
    "\n",
    "X_train, X_test, y_train, y_test = train_test_split(X, y, train_size=0.7, random_state=1)"
   ]
  },
  {
   "cell_type": "code",
   "execution_count": 6,
   "id": "dff08836",
   "metadata": {},
   "outputs": [],
   "source": [
    "###### FIFTH CELL TO EXECUTE : Selecting numerical and categorical columns ######\n",
    "\n",
    "cat_columns = X_train.select_dtypes(include=[\"object\"]).columns.tolist()\n",
    "num_columns = X_train.select_dtypes(exclude=[\"object\"]).columns.tolist()"
   ]
  },
  {
   "cell_type": "code",
   "execution_count": 7,
   "id": "57829154",
   "metadata": {},
   "outputs": [],
   "source": [
    "###### SIXTH CELL TO EXECUTE : Predicting the median_house_value from your dataset ######\n",
    "\n",
    "median_house_value_predictions = model.predict(X_test)"
   ]
  },
  {
   "cell_type": "code",
   "execution_count": 8,
   "id": "4a584c2e",
   "metadata": {},
   "outputs": [
    {
     "data": {
      "text/html": [
       "<div>\n",
       "<style scoped>\n",
       "    .dataframe tbody tr th:only-of-type {\n",
       "        vertical-align: middle;\n",
       "    }\n",
       "\n",
       "    .dataframe tbody tr th {\n",
       "        vertical-align: top;\n",
       "    }\n",
       "\n",
       "    .dataframe thead th {\n",
       "        text-align: right;\n",
       "    }\n",
       "</style>\n",
       "<table border=\"1\" class=\"dataframe\">\n",
       "  <thead>\n",
       "    <tr style=\"text-align: right;\">\n",
       "      <th></th>\n",
       "      <th>Real_Value</th>\n",
       "      <th>Predicted_Value</th>\n",
       "    </tr>\n",
       "  </thead>\n",
       "  <tbody>\n",
       "    <tr>\n",
       "      <th>13044</th>\n",
       "      <td>476400.0</td>\n",
       "      <td>461460.4</td>\n",
       "    </tr>\n",
       "    <tr>\n",
       "      <th>6600</th>\n",
       "      <td>90000.0</td>\n",
       "      <td>87480.0</td>\n",
       "    </tr>\n",
       "    <tr>\n",
       "      <th>15059</th>\n",
       "      <td>224700.0</td>\n",
       "      <td>198560.0</td>\n",
       "    </tr>\n",
       "    <tr>\n",
       "      <th>3072</th>\n",
       "      <td>117600.0</td>\n",
       "      <td>121920.0</td>\n",
       "    </tr>\n",
       "    <tr>\n",
       "      <th>5063</th>\n",
       "      <td>218400.0</td>\n",
       "      <td>243840.0</td>\n",
       "    </tr>\n",
       "    <tr>\n",
       "      <th>...</th>\n",
       "      <td>...</td>\n",
       "      <td>...</td>\n",
       "    </tr>\n",
       "    <tr>\n",
       "      <th>13220</th>\n",
       "      <td>215000.0</td>\n",
       "      <td>232360.0</td>\n",
       "    </tr>\n",
       "    <tr>\n",
       "      <th>7450</th>\n",
       "      <td>249200.0</td>\n",
       "      <td>214200.0</td>\n",
       "    </tr>\n",
       "    <tr>\n",
       "      <th>12034</th>\n",
       "      <td>215700.0</td>\n",
       "      <td>254520.0</td>\n",
       "    </tr>\n",
       "    <tr>\n",
       "      <th>1686</th>\n",
       "      <td>116400.0</td>\n",
       "      <td>122000.0</td>\n",
       "    </tr>\n",
       "    <tr>\n",
       "      <th>15780</th>\n",
       "      <td>500001.0</td>\n",
       "      <td>500001.0</td>\n",
       "    </tr>\n",
       "  </tbody>\n",
       "</table>\n",
       "<p>4901 rows × 2 columns</p>\n",
       "</div>"
      ],
      "text/plain": [
       "       Real_Value  Predicted_Value\n",
       "13044    476400.0         461460.4\n",
       "6600      90000.0          87480.0\n",
       "15059    224700.0         198560.0\n",
       "3072     117600.0         121920.0\n",
       "5063     218400.0         243840.0\n",
       "...           ...              ...\n",
       "13220    215000.0         232360.0\n",
       "7450     249200.0         214200.0\n",
       "12034    215700.0         254520.0\n",
       "1686     116400.0         122000.0\n",
       "15780    500001.0         500001.0\n",
       "\n",
       "[4901 rows x 2 columns]"
      ]
     },
     "execution_count": 8,
     "metadata": {},
     "output_type": "execute_result"
    }
   ],
   "source": [
    "###### SEVENTH CELL TO EXECUTE : Comparing real value with predicted ones (OPTIONNAL) ######\n",
    "\n",
    "prediction_df = pd.DataFrame()\n",
    "prediction_df[\"Real_Value\"] = y_test\n",
    "prediction_df[\"Predicted_Value\"] = median_house_value_predictions\n",
    "prediction_df"
   ]
  },
  {
   "cell_type": "code",
   "execution_count": 9,
   "id": "43a6d01c",
   "metadata": {},
   "outputs": [
    {
     "name": "stdout",
     "output_type": "stream",
     "text": [
      "r² score : 0.9031538750176659\n",
      "mae score : 26746.389716384412\n",
      "mae % score : 0.15314172322335073\n"
     ]
    }
   ],
   "source": [
    "###### EIGHTH CELL TO EXECUTE : Metrics of our model  (OPTIONNAL) ######\n",
    "\n",
    "# Here, you will see how good the model is for predicting the right values\n",
    "print(f'r² score : {model.score(X_test, y_test)}')\n",
    "print(f'mae score : {mean_absolute_error(y_test, median_house_value_predictions)}')\n",
    "print(f'mae % score : {mean_absolute_percentage_error(y_test, median_house_value_predictions)}')"
   ]
  }
 ],
 "metadata": {
  "kernelspec": {
   "display_name": "Python 3",
   "language": "python",
   "name": "python3"
  },
  "language_info": {
   "codemirror_mode": {
    "name": "ipython",
    "version": 3
   },
   "file_extension": ".py",
   "mimetype": "text/x-python",
   "name": "python",
   "nbconvert_exporter": "python",
   "pygments_lexer": "ipython3",
   "version": "3.8.8"
  }
 },
 "nbformat": 4,
 "nbformat_minor": 5
}
